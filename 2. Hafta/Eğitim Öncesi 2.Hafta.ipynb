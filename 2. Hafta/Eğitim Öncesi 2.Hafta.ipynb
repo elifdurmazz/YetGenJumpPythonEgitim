{
 "cells": [
  {
   "cell_type": "code",
   "execution_count": null,
   "metadata": {},
   "outputs": [],
   "source": []
  }
 ],
 "metadata": {
  "kernelspec": {
   "display_name": "Python 3",
   "language": "python",
   "name": "python3"
  },
  "language_info": {
   "name": "python",
   "version": "3.11.1"
  },
  "orig_nbformat": 4,
  "vscode": {
   "interpreter": {
    "hash": "96387a1a34f23317ec9a3436330b34f7193f5214a1fccf52a8a4d71c3b47b7d2"
   }
  }
 },
 "nbformat": 4,
 "nbformat_minor": 2
}
